{
 "cells": [
  {
   "cell_type": "code",
   "execution_count": 1,
   "id": "4e003a70",
   "metadata": {},
   "outputs": [],
   "source": [
    "import tensorflow as tf\n",
    "import numpy as np\n",
    "\n",
    "from konlpy.tag import Twitter\n",
    "import pandas as pd\n",
    "import tensorflow as tf\n",
    "import enum\n",
    "import os\n",
    "import re\n",
    "import json\n",
    "from sklearn.model_selection import train_test_split\n",
    "\n",
    "from tensorflow.keras.callbacks import EarlyStopping, ModelCheckpoint\n",
    "import matplotlib.pyplot as plt\n",
    "\n",
    "from preprocess import *"
   ]
  },
  {
   "cell_type": "code",
   "execution_count": 2,
   "id": "b4b85e42",
   "metadata": {},
   "outputs": [],
   "source": [
    "DATA_IN_PATH = './data_in/'\n",
    "DATA_OUT_PATH = './data_out/'\n",
    "TRAIN_INPUTS = 'train_inputs.npy'\n",
    "TRAIN_OUTPUTS = 'train_outputs.npy'\n",
    "TRAIN_TARGETS = 'train_targets.npy'\n",
    "DATA_CONFIGS = 'data_configs.json'\n",
    "\n",
    "SEED_NUM = 1234\n",
    "tf.random.set_seed(SEED_NUM)\n",
    "\n",
    "index_inputs = np.load(open(DATA_IN_PATH + TRAIN_INPUTS, 'rb'))\n",
    "index_outputs = np.load(open(DATA_IN_PATH + TRAIN_OUTPUTS , 'rb'))\n",
    "index_targets = np.load(open(DATA_IN_PATH + TRAIN_TARGETS , 'rb'))\n",
    "prepro_configs = json.load(open(DATA_IN_PATH + DATA_CONFIGS, 'r'))\n",
    "\n",
    "# 모델 하이어파라미터 정의\n",
    "char2idx = prepro_configs['char2idx']\n",
    "end_index = prepro_configs['end_symbol']\n",
    "model_name = 'transformer'\n",
    "vocab_size = prepro_configs['vocab_size']\n",
    "BATCH_SIZE = 2\n",
    "MAX_SEQUENCE = 25\n",
    "EPOCHS = 30\n",
    "VALID_SPLIT = 0.1\n",
    "\n",
    "kargs = {'model_name': model_name, # 'transformer'\n",
    "         'num_layers': 2, # 레이어 개수\n",
    "         'd_model': 512, # 입력 벡터 차원 수\n",
    "         'num_heads': 8, # 헤드 개수 \n",
    "         'dff': 2048, # feed forward 네트워크 결과 차원 수\n",
    "         'input_vocab_size': vocab_size, # 125\n",
    "         'target_vocab_size': vocab_size, # 125\n",
    "         'maximum_position_encoding': MAX_SEQUENCE, # 25\n",
    "         'end_token_idx': char2idx[end_index], # 2\n",
    "         'rate': 0.1\n",
    "        }"
   ]
  },
  {
   "cell_type": "markdown",
   "id": "60312c91",
   "metadata": {},
   "source": [
    "# 모델 선언 및 컴파일"
   ]
  },
  {
   "cell_type": "markdown",
   "id": "6bf32c66",
   "metadata": {},
   "source": [
    "## 패딩 및 포워드 마스킹"
   ]
  },
  {
   "cell_type": "code",
   "execution_count": 3,
   "id": "46cdb45d",
   "metadata": {},
   "outputs": [],
   "source": [
    "def create_padding_mask(seq):\n",
    "    seq = tf.cast(tf.math.equal(seq, 0), tf.float32)\n",
    "    \"\"\" 이렇게 0 패딩됐던 부분이 1. 로 마스킹 됨 \n",
    "    array([[0., 0., 0., ..., 1., 1., 1.],\n",
    "            [0., 0., 0., .... 0., 1., 1.], \n",
    "            ... ]])\"\"\"\n",
    "    # add extra dimensions to add the padding\n",
    "    # to the attention logits.\n",
    "    return seq[:, tf.newaxis, tf.newaxis, :]  # (batch_size, 1, 1, seq_len)\n",
    "    \"\"\" 가중치 행렬과 더해주기 위해 다음과 같이 4차원으로 \n",
    "    array([[[[0., 0., 0., 0., 0., 1., 1., 1., 1., 1.]]],\n",
    "    \n",
    "              [0., 0., 0., 0., ..., 0., 0., 1., 1.]]],\n",
    "              \n",
    "              ... ... ... .. ... ... ... ... ... ]]]]) \"\"\"\n",
    "\n",
    "def create_look_ahead_mask(size):\n",
    "    # 하삼각행렬: 아래쪽 삼각형 0 되도록 \n",
    "    # 1 에서 빼줘서 위쪽 삼각형이 1이 됨! \n",
    "    mask = 1 - tf.linalg.band_part(tf.ones((size, size)), -1, 0)\n",
    "    return mask  # (seq_len, seq_len)\n",
    "\n",
    "def create_masks(inp, tar):\n",
    "    # Encoder padding mask\n",
    "    enc_padding_mask = create_padding_mask(inp)\n",
    "    # 4차원: (batch_size, 1, 1, seq_len)\n",
    "\n",
    "    # Used in the 2nd attention block in the decoder.\n",
    "    # This padding mask is used to mask the encoder outputs.\n",
    "    dec_padding_mask = create_padding_mask(inp)\n",
    "\n",
    "    # Used in the 1st attention block in the decoder.\n",
    "    # It is used to pad and mask future tokens in the input received by the decoder.\n",
    "    look_ahead_mask = create_look_ahead_mask(tf.shape(tar)[1])\n",
    "    dec_target_padding_mask = create_padding_mask(tar) \n",
    "    combined_mask = tf.maximum(dec_target_padding_mask, look_ahead_mask)\n",
    "    # 둘 중 하나라도 1이었다면 combined mask로 마스킹 처리 됨.\n",
    "    # 상삼각행렬 or 이미 패딩되었던 부분\n",
    "    \n",
    "    return enc_padding_mask, combined_mask, dec_padding_mask\n",
    "\n",
    "enc_padding_mask, look_ahead_mask, dec_padding_mask = create_masks(index_inputs, index_outputs)"
   ]
  },
  {
   "cell_type": "code",
   "execution_count": 34,
   "id": "6c7dc4d4",
   "metadata": {},
   "outputs": [
    {
     "data": {
      "text/plain": [
       "<tf.Tensor: shape=(5,), dtype=int32, numpy=array([1, 1, 0, 1, 1])>"
      ]
     },
     "execution_count": 34,
     "metadata": {},
     "output_type": "execute_result"
    }
   ],
   "source": [
    "tf.maximum([1,1,0,0,0], [0,0,0,1,1])"
   ]
  },
  {
   "cell_type": "code",
   "execution_count": 33,
   "id": "63a1d52e",
   "metadata": {},
   "outputs": [
    {
     "data": {
      "text/plain": [
       "<tf.Tensor: shape=(2, 10), dtype=float32, numpy=\n",
       "array([[0., 0., 0., 0., 0., 1., 1., 1., 1., 1.],\n",
       "       [0., 0., 0., 0., 0., 0., 0., 1., 1., 1.]], dtype=float32)>"
      ]
     },
     "execution_count": 33,
     "metadata": {},
     "output_type": "execute_result"
    }
   ],
   "source": [
    "tf.cast(tf.math.equal(inp, 0), tf.float32)"
   ]
  },
  {
   "cell_type": "code",
   "execution_count": 31,
   "id": "66e8df1a",
   "metadata": {},
   "outputs": [
    {
     "data": {
      "text/plain": [
       "<tf.Tensor: shape=(2, 1, 1, 10), dtype=float32, numpy=\n",
       "array([[[[0., 0., 0., 0., 0., 1., 1., 1., 1., 1.]]],\n",
       "\n",
       "\n",
       "       [[[0., 0., 0., 0., 0., 0., 0., 1., 1., 1.]]]], dtype=float32)>"
      ]
     },
     "execution_count": 31,
     "metadata": {},
     "output_type": "execute_result"
    }
   ],
   "source": [
    "inp = [[64, 30, 12, 6 ,4, 0,0,0,0,0], [50, 21, 3, 4, 5, 7, 8, 0,0,0]]\n",
    "tar = [[30, 12, 8, 78, 100, 0,0,0,0,0], [10, 22, 90, 101, 29, 10,12, 0,0,0] ]\n",
    "\n",
    "create_padding_mask(inp)"
   ]
  },
  {
   "cell_type": "markdown",
   "id": "15d48af1",
   "metadata": {},
   "source": [
    "- tf.newaxis 차원 변환 사용 예시"
   ]
  },
  {
   "cell_type": "code",
   "execution_count": 27,
   "id": "0a1d25a0",
   "metadata": {},
   "outputs": [
    {
     "name": "stdout",
     "output_type": "stream",
     "text": [
      "(60000, 28, 28)\n",
      "(60000, 28, 28, 1)\n",
      "(1, 60000, 28, 28, 1)\n",
      "(1, 60000, 1, 28, 28)\n",
      "(60000, 1, 1, 28, 28)\n"
     ]
    }
   ],
   "source": [
    "from tensorflow.keras import datasets\n",
    "\n",
    "mnist = datasets.mnist\n",
    "(train_x, train_y), (test_x, test_y) = mnist.load_data()\n",
    "\n",
    "print(train_x.shape) # (60000, 28, 28)\n",
    "\n",
    "print(train_x[..., tf.newaxis].shape) # (6000, 28, 28, 1)\n",
    "print(train_x[tf.newaxis, ..., tf.newaxis].shape) # (1, 60000, 28, 28, 1)\n",
    "print(train_x[tf.newaxis, :, tf.newaxis, :].shape) # (1, 60000, 1, 28, 28)\n",
    "print(train_x[ :, tf.newaxis, tf.newaxis, :].shape) # (60000, 1, 1, 28, 28)"
   ]
  },
  {
   "cell_type": "markdown",
   "id": "e4c30ab9",
   "metadata": {},
   "source": [
    "## 포지셔널 인코딩"
   ]
  },
  {
   "cell_type": "code",
   "execution_count": 4,
   "id": "54b029f5",
   "metadata": {},
   "outputs": [
    {
     "name": "stdout",
     "output_type": "stream",
     "text": [
      "(1, 50, 512)\n"
     ]
    },
    {
     "data": {
      "image/png": "[encoded data removed]",
      "text/plain": [
       "<Figure size 640x480 with 2 Axes>"
      ]
     },
     "metadata": {},
     "output_type": "display_data"
    }
   ],
   "source": [
    "def get_angles(pos, i, d_model):\n",
    "    angle_rates = 1 / np.power(10000, (2 * i//2) / np.float32(d_model))\n",
    "    return pos * angle_rates\n",
    "\n",
    "def positional_encoding(position, d_model):\n",
    "    angle_rads = get_angles(np.arange(position)[:, np.newaxis],\n",
    "                          np.arange(d_model)[np.newaxis, :],\n",
    "                          d_model)\n",
    "\n",
    "    # apply sin to even indices in the array; 2i\n",
    "    angle_rads[:, 0::2] = np.sin(angle_rads[:, 0::2])\n",
    "\n",
    "    # apply cos to odd indices in the array; 2i+1\n",
    "    angle_rads[:, 1::2] = np.cos(angle_rads[:, 1::2])\n",
    "\n",
    "    pos_encoding = angle_rads[np.newaxis, ...]\n",
    "\n",
    "    return tf.cast(pos_encoding, dtype=tf.float32)\n",
    "\n",
    "pos_encoding = positional_encoding(50, 512)\n",
    "print (pos_encoding.shape)\n",
    "\n",
    "plt.pcolormesh(pos_encoding[0], cmap='RdBu')\n",
    "plt.xlabel('Depth')\n",
    "plt.xlim((0, 512))\n",
    "plt.ylabel('Position')\n",
    "plt.colorbar()\n",
    "plt.show()"
   ]
  },
  {
   "cell_type": "markdown",
   "id": "7bd46cfc",
   "metadata": {},
   "source": [
    "## 어텐션"
   ]
  },
  {
   "cell_type": "code",
   "execution_count": 5,
   "id": "78dd8c37",
   "metadata": {},
   "outputs": [],
   "source": [
    "def scaled_dot_product_attention(q, k, v, mask):\n",
    "    \"\"\"Calculate the attention weights.\n",
    "    q, k, v must have matching leading dimensions.\n",
    "    k, v must have matching penultimate dimension, i.e.: seq_len_k = seq_len_v.\n",
    "    The mask has different shapes depending on its type(padding or look ahead) \n",
    "    but it must be broadcastable for addition.\n",
    "\n",
    "    Args:\n",
    "    q: query shape == (..., seq_len_q, depth)\n",
    "    k: key shape == (..., seq_len_k, depth)\n",
    "    v: value shape == (..., seq_len_v, depth_v)\n",
    "    mask: Float tensor with shape broadcastable \n",
    "          to (..., seq_len_q, seq_len_k). Defaults to None.\n",
    "\n",
    "    Returns:\n",
    "    output, attention_weights\n",
    "    \"\"\"\n",
    "\n",
    "    matmul_qk = tf.matmul(q, k, transpose_b=True)  # (..., seq_len_q, seq_len_k)\n",
    "\n",
    "    # scale matmul_qk\n",
    "    dk = tf.cast(tf.shape(k)[-1], tf.float32)\n",
    "    scaled_attention_logits = matmul_qk / tf.math.sqrt(dk)\n",
    "\n",
    "    # add the mask to the scaled tensor.\n",
    "    if mask is not None:\n",
    "        scaled_attention_logits += (mask * -1e9)  \n",
    "\n",
    "    # softmax is normalized on the last axis (seq_len_k) so that the scores\n",
    "    # add up to 1.\n",
    "    attention_weights = tf.nn.softmax(scaled_attention_logits, axis=-1)  # (..., seq_len_q, seq_len_k)\n",
    "\n",
    "    output = tf.matmul(attention_weights, v)  # (..., seq_len_q, depth_v)\n",
    "\n",
    "    return output, attention_weights"
   ]
  },
  {
   "cell_type": "markdown",
   "id": "bb1133c5",
   "metadata": {},
   "source": [
    "## 멀티헤드 어텐션\n",
    "- 내적 어텐션 구조가 중첩된 형태 \n",
    "    - 어텐션 구조: 특정 단어에 대해 다른 단어와의 관계를 알아보는 것\n",
    "- 1) 스케일 내적 어텐션 \n",
    "    - 기본적인 내적 어텐션의 입력: query, key, valye \n",
    "        - query: 찾고자 하는 단어, key: 사전에 등록된 단어, value: 단어의 의미\n",
    "        - query: 기준 단어, key&value: 다른 단어들 \n",
    "    - 1) 특정 단어에 대해 모든 다른 단어와 내적해서 attention score 구함\n",
    "    - (query에 대해 다른 모든 key와 내적해서 어텐션 스코어를 구함)\n",
    "    - 2) 이 스코어에 소프트맥스 함수 적용해서 확률값을 만듦.\n",
    "    - 3) value에 확률을 각각 곱해서 query와의 관계가 적용된 value 값으로 만듦. \n",
    "    - 4) 이 값을 모두 더하면 query에 대한 문맥 벡터가 되는 것임.\n",
    "- 2) "
   ]
  },
  {
   "cell_type": "code",
   "execution_count": 6,
   "id": "d63508f9",
   "metadata": {},
   "outputs": [],
   "source": [
    "class MultiHeadAttention(tf.keras.layers.Layer):\n",
    "    def __init__(self, **kargs):\n",
    "        super(MultiHeadAttention, self).__init__()\n",
    "        self.num_heads = kargs['num_heads']\n",
    "        self.d_model = kargs['d_model']\n",
    "\n",
    "        assert self.d_model % self.num_heads == 0\n",
    "\n",
    "        self.depth = self.d_model // self.num_heads\n",
    "\n",
    "        self.wq = tf.keras.layers.Dense(kargs['d_model'])\n",
    "        self.wk = tf.keras.layers.Dense(kargs['d_model'])\n",
    "        self.wv = tf.keras.layers.Dense(kargs['d_model'])\n",
    "\n",
    "        self.dense = tf.keras.layers.Dense(kargs['d_model'])\n",
    "\n",
    "    def split_heads(self, x, batch_size):\n",
    "        \"\"\"Split the last dimension into (num_heads, depth).\n",
    "        Transpose the result such that the shape is (batch_size, num_heads, seq_len, depth)\n",
    "        \"\"\"\n",
    "        x = tf.reshape(x, (batch_size, -1, self.num_heads, self.depth))\n",
    "        return tf.transpose(x, perm=[0, 2, 1, 3])\n",
    "\n",
    "    def call(self, v, k, q, mask):\n",
    "        batch_size = tf.shape(q)[0]\n",
    "\n",
    "        q = self.wq(q)  # (batch_size, seq_len, d_model)\n",
    "        k = self.wk(k)  # (batch_size, seq_len, d_model)\n",
    "        v = self.wv(v)  # (batch_size, seq_len, d_model)\n",
    "\n",
    "        q = self.split_heads(q, batch_size)  # (batch_size, num_heads, seq_len_q, depth)\n",
    "        k = self.split_heads(k, batch_size)  # (batch_size, num_heads, seq_len_k, depth)\n",
    "        v = self.split_heads(v, batch_size)  # (batch_size, num_heads, seq_len_v, depth)\n",
    "\n",
    "        # scaled_attention.shape == (batch_size, num_heads, seq_len_q, depth)\n",
    "        # attention_weights.shape == (batch_size, num_heads, seq_len_q, seq_len_k)\n",
    "        scaled_attention, attention_weights = scaled_dot_product_attention(\n",
    "            q, k, v, mask)\n",
    "\n",
    "        scaled_attention = tf.transpose(scaled_attention, perm=[0, 2, 1, 3])  # (batch_size, seq_len_q, num_heads, depth)\n",
    "\n",
    "        concat_attention = tf.reshape(scaled_attention, \n",
    "                                      (batch_size, -1, self.d_model))  # (batch_size, seq_len_q, d_model)\n",
    "\n",
    "        output = self.dense(concat_attention)  # (batch_size, seq_len_q, d_model)\n",
    "\n",
    "        return output, attention_weights"
   ]
  },
  {
   "cell_type": "markdown",
   "id": "2b491e81",
   "metadata": {},
   "source": [
    "## 포인트 와이즈 피드포워드 네트워크"
   ]
  },
  {
   "cell_type": "code",
   "execution_count": 7,
   "id": "de13e6d8",
   "metadata": {},
   "outputs": [],
   "source": [
    "def point_wise_feed_forward_network(**kargs):\n",
    "    return tf.keras.Sequential([\n",
    "      tf.keras.layers.Dense(kargs['dff'], activation='relu'),  # (batch_size, seq_len, dff)\n",
    "      tf.keras.layers.Dense(kargs['d_model'])  # (batch_size, seq_len, d_model)\n",
    "    ])"
   ]
  },
  {
   "cell_type": "markdown",
   "id": "5ecc6a9f",
   "metadata": {},
   "source": [
    "## 인코더 레이어"
   ]
  },
  {
   "cell_type": "code",
   "execution_count": 8,
   "id": "a200b99e",
   "metadata": {},
   "outputs": [],
   "source": [
    "class EncoderLayer(tf.keras.layers.Layer):\n",
    "    def __init__(self, **kargs):\n",
    "        super(EncoderLayer, self).__init__()\n",
    "\n",
    "        self.mha = MultiHeadAttention(**kargs)\n",
    "        self.ffn = point_wise_feed_forward_network(**kargs)\n",
    "\n",
    "        self.layernorm1 = tf.keras.layers.LayerNormalization(epsilon=1e-6)\n",
    "        self.layernorm2 = tf.keras.layers.LayerNormalization(epsilon=1e-6)\n",
    "\n",
    "        self.dropout1 = tf.keras.layers.Dropout(kargs['rate'])\n",
    "        self.dropout2 = tf.keras.layers.Dropout(kargs['rate'])\n",
    "\n",
    "    def call(self, x, mask):\n",
    "        attn_output, _ = self.mha(x, x, x, mask)  # (batch_size, input_seq_len, d_model)\n",
    "        attn_output = self.dropout1(attn_output)\n",
    "        out1 = self.layernorm1(x + attn_output)  # (batch_size, input_seq_len, d_model)\n",
    "\n",
    "        ffn_output = self.ffn(out1)  # (batch_size, input_seq_len, d_model)\n",
    "        ffn_output = self.dropout2(ffn_output)\n",
    "        out2 = self.layernorm2(out1 + ffn_output)  # (batch_size, input_seq_len, d_model)\n",
    "\n",
    "        return out2"
   ]
  },
  {
   "cell_type": "markdown",
   "id": "6b4ea183",
   "metadata": {},
   "source": [
    "## 디코더 레이어"
   ]
  },
  {
   "cell_type": "code",
   "execution_count": 9,
   "id": "e799d0d9",
   "metadata": {},
   "outputs": [],
   "source": [
    "class DecoderLayer(tf.keras.layers.Layer):\n",
    "    def __init__(self, **kargs):\n",
    "        super(DecoderLayer, self).__init__()\n",
    "\n",
    "        self.mha1 = MultiHeadAttention(**kargs)\n",
    "        self.mha2 = MultiHeadAttention(**kargs)\n",
    "\n",
    "        self.ffn = point_wise_feed_forward_network(**kargs)\n",
    "\n",
    "        self.layernorm1 = tf.keras.layers.LayerNormalization(epsilon=1e-6)\n",
    "        self.layernorm2 = tf.keras.layers.LayerNormalization(epsilon=1e-6)\n",
    "        self.layernorm3 = tf.keras.layers.LayerNormalization(epsilon=1e-6)\n",
    "\n",
    "        self.dropout1 = tf.keras.layers.Dropout(kargs['rate'])\n",
    "        self.dropout2 = tf.keras.layers.Dropout(kargs['rate'])\n",
    "        self.dropout3 = tf.keras.layers.Dropout(kargs['rate'])\n",
    "    \n",
    "    \n",
    "    def call(self, x, enc_output, look_ahead_mask, padding_mask):\n",
    "        # enc_output.shape == (batch_size, input_seq_len, d_model)\n",
    "        attn1, attn_weights_block1 = self.mha1(x, x, x, look_ahead_mask)  # (batch_size, target_seq_len, d_model)\n",
    "        attn1 = self.dropout1(attn1)\n",
    "        out1 = self.layernorm1(attn1 + x)\n",
    "\n",
    "        attn2, attn_weights_block2 = self.mha2(\n",
    "            enc_output, enc_output, out1, padding_mask)  # (batch_size, target_seq_len, d_model)\n",
    "        attn2 = self.dropout2(attn2)\n",
    "        out2 = self.layernorm2(attn2 + out1)  # (batch_size, target_seq_len, d_model)\n",
    "\n",
    "        ffn_output = self.ffn(out2)  # (batch_size, target_seq_len, d_model)\n",
    "        ffn_output = self.dropout3(ffn_output)\n",
    "        out3 = self.layernorm3(ffn_output + out2)  # (batch_size, target_seq_len, d_model)\n",
    "\n",
    "        return out3, attn_weights_block1, attn_weights_block2"
   ]
  },
  {
   "cell_type": "markdown",
   "id": "5e73f690",
   "metadata": {},
   "source": [
    "## 인코더"
   ]
  },
  {
   "cell_type": "code",
   "execution_count": 10,
   "id": "8b5aa2d7",
   "metadata": {},
   "outputs": [],
   "source": [
    "class Encoder(tf.keras.layers.Layer):\n",
    "    def __init__(self, **kargs):\n",
    "        super(Encoder, self).__init__()\n",
    "\n",
    "        self.d_model = kargs['d_model']\n",
    "        self.num_layers = kargs['num_layers']\n",
    "\n",
    "        self.embedding = tf.keras.layers.Embedding(kargs['input_vocab_size'], self.d_model)\n",
    "        self.pos_encoding = positional_encoding(kargs['maximum_position_encoding'], \n",
    "                                                self.d_model)\n",
    "\n",
    "\n",
    "        self.enc_layers = [EncoderLayer(**kargs) \n",
    "                           for _ in range(self.num_layers)]\n",
    "\n",
    "        self.dropout = tf.keras.layers.Dropout(kargs['rate'])\n",
    "\n",
    "    def call(self, x, mask):\n",
    "\n",
    "        seq_len = tf.shape(x)[1]\n",
    "\n",
    "        # adding embedding and position encoding.\n",
    "        x = self.embedding(x)  # (batch_size, input_seq_len, d_model)\n",
    "        x *= tf.math.sqrt(tf.cast(self.d_model, tf.float32))\n",
    "        x += self.pos_encoding[:, :seq_len, :]\n",
    "\n",
    "        x = self.dropout(x)\n",
    "\n",
    "        for i in range(self.num_layers):\n",
    "            x = self.enc_layers[i](x, mask)\n",
    "\n",
    "        return x  # (batch_size, input_seq_len, d_model)"
   ]
  },
  {
   "cell_type": "markdown",
   "id": "6c21f1a1",
   "metadata": {},
   "source": [
    "## 디코더"
   ]
  },
  {
   "cell_type": "code",
   "execution_count": 11,
   "id": "8a090815",
   "metadata": {},
   "outputs": [],
   "source": [
    "class Decoder(tf.keras.layers.Layer):\n",
    "    def __init__(self, **kargs):\n",
    "        super(Decoder, self).__init__()\n",
    "\n",
    "        self.d_model = kargs['d_model']\n",
    "        self.num_layers = kargs['num_layers']\n",
    "\n",
    "        self.embedding = tf.keras.layers.Embedding(kargs['target_vocab_size'], self.d_model)\n",
    "        self.pos_encoding = positional_encoding(kargs['maximum_position_encoding'], self.d_model)\n",
    "\n",
    "        self.dec_layers = [DecoderLayer(**kargs) \n",
    "                           for _ in range(self.num_layers)]\n",
    "        self.dropout = tf.keras.layers.Dropout(kargs['rate'])\n",
    "\n",
    "    def call(self, x, enc_output, look_ahead_mask, padding_mask):\n",
    "        seq_len = tf.shape(x)[1]\n",
    "        attention_weights = {}\n",
    "\n",
    "        x = self.embedding(x)  # (batch_size, target_seq_len, d_model)\n",
    "        x *= tf.math.sqrt(tf.cast(self.d_model, tf.float32))\n",
    "        x += self.pos_encoding[:, :seq_len, :]\n",
    "\n",
    "        x = self.dropout(x)\n",
    "\n",
    "        for i in range(self.num_layers):\n",
    "            x, block1, block2 = self.dec_layers[i](x, enc_output, look_ahead_mask, padding_mask)\n",
    "\n",
    "            attention_weights['decoder_layer{}_block1'.format(i+1)] = block1\n",
    "            attention_weights['decoder_layer{}_block2'.format(i+1)] = block2\n",
    "\n",
    "        # x.shape == (batch_size, target_seq_len, d_model)\n",
    "        return x, attention_weights"
   ]
  },
  {
   "cell_type": "markdown",
   "id": "5c2c6389",
   "metadata": {},
   "source": [
    "## 트랜스포머 모델"
   ]
  },
  {
   "cell_type": "code",
   "execution_count": 12,
   "id": "76ef98d1",
   "metadata": {},
   "outputs": [],
   "source": [
    "class Transformer(tf.keras.Model):\n",
    "    def __init__(self, **kargs):\n",
    "        super(Transformer, self).__init__(name=kargs['model_name'])\n",
    "        self.end_token_idx = kargs['end_token_idx']\n",
    "        \n",
    "        self.encoder = Encoder(**kargs)\n",
    "        self.decoder = Decoder(**kargs)\n",
    "\n",
    "        self.final_layer = tf.keras.layers.Dense(kargs['target_vocab_size'])\n",
    "\n",
    "    def call(self, x):\n",
    "        inp, tar = x\n",
    "\n",
    "        enc_padding_mask, look_ahead_mask, dec_padding_mask = create_masks(inp, tar)\n",
    "        enc_output = self.encoder(inp, enc_padding_mask)  # (batch_size, inp_seq_len, d_model)\n",
    "\n",
    "        # dec_output.shape == (batch_size, tar_seq_len, d_model)\n",
    "        dec_output, _ = self.decoder(\n",
    "            tar, enc_output, look_ahead_mask, dec_padding_mask)\n",
    "\n",
    "        final_output = self.final_layer(dec_output)  # (batch_size, tar_seq_len, target_vocab_size)\n",
    "\n",
    "        return final_output\n",
    "    \n",
    "    def inference(self, x):\n",
    "        inp = x\n",
    "        tar = tf.expand_dims([STD_INDEX], 0)\n",
    "\n",
    "        enc_padding_mask, look_ahead_mask, dec_padding_mask = create_masks(inp, tar)        \n",
    "        enc_output = self.encoder(inp, enc_padding_mask)\n",
    "        \n",
    "        predict_tokens = list()\n",
    "        for t in range(0, MAX_SEQUENCE):\n",
    "            dec_output, _ = self.decoder(tar, enc_output, look_ahead_mask, dec_padding_mask)\n",
    "            final_output = self.final_layer(dec_output)\n",
    "            outputs = tf.argmax(final_output, -1).numpy()\n",
    "            pred_token = outputs[0][-1]\n",
    "            if pred_token == self.end_token_idx:\n",
    "                break\n",
    "            predict_tokens.append(pred_token)\n",
    "            tar = tf.expand_dims([STD_INDEX] + predict_tokens, 0)\n",
    "            _, look_ahead_mask, dec_padding_mask = create_masks(inp, tar)\n",
    "            \n",
    "        return predict_tokens"
   ]
  },
  {
   "cell_type": "markdown",
   "id": "ca233977",
   "metadata": {},
   "source": [
    "## 모델 loss 정의"
   ]
  },
  {
   "cell_type": "code",
   "execution_count": 13,
   "id": "aea915ea",
   "metadata": {},
   "outputs": [],
   "source": [
    "loss_object = tf.keras.losses.SparseCategoricalCrossentropy(\n",
    "    from_logits=True, reduction='none')\n",
    "\n",
    "train_accuracy = tf.keras.metrics.SparseCategoricalAccuracy(name='accuracy')\n",
    "\n",
    "def loss(real, pred):\n",
    "    mask = tf.math.logical_not(tf.math.equal(real, 0))\n",
    "    loss_ = loss_object(real, pred)\n",
    "\n",
    "    mask = tf.cast(mask, dtype=loss_.dtype)\n",
    "    loss_ *= mask\n",
    "\n",
    "    return tf.reduce_mean(loss_)\n",
    "\n",
    "def accuracy(real, pred):\n",
    "    mask = tf.math.logical_not(tf.math.equal(real, 0))\n",
    "    mask = tf.expand_dims(tf.cast(mask, dtype=pred.dtype), axis=-1)\n",
    "    pred *= mask    \n",
    "    acc = train_accuracy(real, pred)\n",
    "\n",
    "    return tf.reduce_mean(acc)"
   ]
  },
  {
   "cell_type": "code",
   "execution_count": 14,
   "id": "715c0e58",
   "metadata": {},
   "outputs": [],
   "source": [
    "model = Transformer(**kargs)\n",
    "model.compile(optimizer=tf.keras.optimizers.Adam(1e-4),\n",
    "              loss=loss,\n",
    "              metrics=[accuracy])"
   ]
  },
  {
   "cell_type": "markdown",
   "id": "df316b48",
   "metadata": {},
   "source": [
    "# Callback 선언"
   ]
  },
  {
   "cell_type": "code",
   "execution_count": 15,
   "id": "3e81d63e",
   "metadata": {},
   "outputs": [
    {
     "name": "stdout",
     "output_type": "stream",
     "text": [
      "./data_out/transformer -- Folder already exists \n",
      "\n"
     ]
    }
   ],
   "source": [
    "# overfitting을 막기 위한 ealrystop 추가\n",
    "earlystop_callback = EarlyStopping(monitor='val_accuracy', min_delta=0.0001, patience=10)\n",
    "# min_delta: the threshold that triggers the termination (acc should at least improve 0.0001)\n",
    "# patience: no improvment epochs (patience = 1, 1번 이상 상승이 없으면 종료)\n",
    "\n",
    "checkpoint_path = DATA_OUT_PATH + model_name + '/weights.h5'\n",
    "checkpoint_dir = os.path.dirname(checkpoint_path)\n",
    "\n",
    "# Create path if exists\n",
    "if os.path.exists(checkpoint_dir):\n",
    "    print(\"{} -- Folder already exists \\n\".format(checkpoint_dir))\n",
    "else:\n",
    "    os.makedirs(checkpoint_dir, exist_ok=True)\n",
    "    print(\"{} -- Folder create complete \\n\".format(checkpoint_dir))\n",
    "    \n",
    "\n",
    "cp_callback = ModelCheckpoint(\n",
    "    checkpoint_path, monitor='val_accuracy', verbose=1, save_best_only=True, save_weights_only=True)"
   ]
  },
  {
   "cell_type": "markdown",
   "id": "57170aae",
   "metadata": {},
   "source": [
    "# 모델 학습"
   ]
  },
  {
   "cell_type": "code",
   "execution_count": 16,
   "id": "bd2a589a",
   "metadata": {},
   "outputs": [
    {
     "name": "stdout",
     "output_type": "stream",
     "text": [
      "Epoch 1/30\n",
      "9/9 [==============================] - ETA: 0s - loss: 1.1341 - accuracy: 0.7793\n",
      "Epoch 1: val_accuracy improved from -inf to 0.80400, saving model to ./data_out/transformer\\weights.h5\n",
      "9/9 [==============================] - 26s 632ms/step - loss: 1.1341 - accuracy: 0.7793 - val_loss: 0.8825 - val_accuracy: 0.8040\n",
      "Epoch 2/30\n",
      "9/9 [==============================] - ETA: 0s - loss: 0.8548 - accuracy: 0.8092\n",
      "Epoch 2: val_accuracy improved from 0.80400 to 0.81400, saving model to ./data_out/transformer\\weights.h5\n",
      "9/9 [==============================] - 1s 156ms/step - loss: 0.8548 - accuracy: 0.8092 - val_loss: 0.9346 - val_accuracy: 0.8140\n",
      "Epoch 3/30\n",
      "9/9 [==============================] - ETA: 0s - loss: 0.7111 - accuracy: 0.8170\n",
      "Epoch 3: val_accuracy improved from 0.81400 to 0.81933, saving model to ./data_out/transformer\\weights.h5\n",
      "9/9 [==============================] - 1s 144ms/step - loss: 0.7111 - accuracy: 0.8170 - val_loss: 0.8168 - val_accuracy: 0.8193\n",
      "Epoch 4/30\n",
      "9/9 [==============================] - ETA: 0s - loss: 0.5208 - accuracy: 0.8242\n",
      "Epoch 4: val_accuracy improved from 0.81933 to 0.82950, saving model to ./data_out/transformer\\weights.h5\n",
      "9/9 [==============================] - 1s 154ms/step - loss: 0.5208 - accuracy: 0.8242 - val_loss: 0.7703 - val_accuracy: 0.8295\n",
      "Epoch 5/30\n",
      "9/9 [==============================] - ETA: 0s - loss: 0.2996 - accuracy: 0.8387\n",
      "Epoch 5: val_accuracy improved from 0.82950 to 0.84640, saving model to ./data_out/transformer\\weights.h5\n",
      "9/9 [==============================] - 1s 151ms/step - loss: 0.2996 - accuracy: 0.8387 - val_loss: 0.8035 - val_accuracy: 0.8464\n",
      "Epoch 6/30\n",
      "9/9 [==============================] - ETA: 0s - loss: 0.2071 - accuracy: 0.8550\n",
      "Epoch 6: val_accuracy improved from 0.84640 to 0.85933, saving model to ./data_out/transformer\\weights.h5\n",
      "9/9 [==============================] - 1s 163ms/step - loss: 0.2071 - accuracy: 0.8550 - val_loss: 0.8979 - val_accuracy: 0.8593\n",
      "Epoch 7/30\n",
      "9/9 [==============================] - ETA: 0s - loss: 0.1950 - accuracy: 0.8656\n",
      "Epoch 7: val_accuracy improved from 0.85933 to 0.87000, saving model to ./data_out/transformer\\weights.h5\n",
      "9/9 [==============================] - 1s 149ms/step - loss: 0.1950 - accuracy: 0.8656 - val_loss: 0.8447 - val_accuracy: 0.8700\n",
      "Epoch 8/30\n",
      "9/9 [==============================] - ETA: 0s - loss: 0.2112 - accuracy: 0.8761\n",
      "Epoch 8: val_accuracy improved from 0.87000 to 0.87700, saving model to ./data_out/transformer\\weights.h5\n",
      "9/9 [==============================] - 1s 150ms/step - loss: 0.2112 - accuracy: 0.8761 - val_loss: 0.8094 - val_accuracy: 0.8770\n",
      "Epoch 9/30\n",
      "9/9 [==============================] - ETA: 0s - loss: 0.1733 - accuracy: 0.8813\n",
      "Epoch 9: val_accuracy improved from 0.87700 to 0.88378, saving model to ./data_out/transformer\\weights.h5\n",
      "9/9 [==============================] - 1s 158ms/step - loss: 0.1733 - accuracy: 0.8813 - val_loss: 0.6578 - val_accuracy: 0.8838\n",
      "Epoch 10/30\n",
      "9/9 [==============================] - ETA: 0s - loss: 0.1648 - accuracy: 0.8878\n",
      "Epoch 10: val_accuracy improved from 0.88378 to 0.89160, saving model to ./data_out/transformer\\weights.h5\n",
      "9/9 [==============================] - 1s 148ms/step - loss: 0.1648 - accuracy: 0.8878 - val_loss: 0.3192 - val_accuracy: 0.8916\n",
      "Epoch 11/30\n",
      "9/9 [==============================] - ETA: 0s - loss: 0.0966 - accuracy: 0.8961\n",
      "Epoch 11: val_accuracy improved from 0.89160 to 0.89927, saving model to ./data_out/transformer\\weights.h5\n",
      "9/9 [==============================] - 1s 158ms/step - loss: 0.0966 - accuracy: 0.8961 - val_loss: 0.3278 - val_accuracy: 0.8993\n",
      "Epoch 12/30\n",
      "9/9 [==============================] - ETA: 0s - loss: 0.0469 - accuracy: 0.9035\n",
      "Epoch 12: val_accuracy improved from 0.89927 to 0.90650, saving model to ./data_out/transformer\\weights.h5\n",
      "9/9 [==============================] - 1s 144ms/step - loss: 0.0469 - accuracy: 0.9035 - val_loss: 0.3433 - val_accuracy: 0.9065\n",
      "Epoch 13/30\n",
      "9/9 [==============================] - ETA: 0s - loss: 0.0211 - accuracy: 0.9102\n",
      "Epoch 13: val_accuracy improved from 0.90650 to 0.91323, saving model to ./data_out/transformer\\weights.h5\n",
      "9/9 [==============================] - 1s 149ms/step - loss: 0.0211 - accuracy: 0.9102 - val_loss: 0.3113 - val_accuracy: 0.9132\n",
      "Epoch 14/30\n",
      "9/9 [==============================] - ETA: 0s - loss: 0.0292 - accuracy: 0.9163\n",
      "Epoch 14: val_accuracy improved from 0.91323 to 0.91871, saving model to ./data_out/transformer\\weights.h5\n",
      "9/9 [==============================] - 1s 154ms/step - loss: 0.0292 - accuracy: 0.9163 - val_loss: 0.3491 - val_accuracy: 0.9187\n",
      "Epoch 15/30\n",
      "9/9 [==============================] - ETA: 0s - loss: 0.0086 - accuracy: 0.9215\n",
      "Epoch 15: val_accuracy improved from 0.91871 to 0.92347, saving model to ./data_out/transformer\\weights.h5\n",
      "9/9 [==============================] - 1s 148ms/step - loss: 0.0086 - accuracy: 0.9215 - val_loss: 0.3741 - val_accuracy: 0.9235\n",
      "Epoch 16/30\n",
      "9/9 [==============================] - ETA: 0s - loss: 0.0060 - accuracy: 0.9259\n",
      "Epoch 16: val_accuracy improved from 0.92347 to 0.92775, saving model to ./data_out/transformer\\weights.h5\n",
      "9/9 [==============================] - 1s 157ms/step - loss: 0.0060 - accuracy: 0.9259 - val_loss: 0.3298 - val_accuracy: 0.9277\n",
      "Epoch 17/30\n",
      "9/9 [==============================] - ETA: 0s - loss: 0.0058 - accuracy: 0.9299\n",
      "Epoch 17: val_accuracy improved from 0.92775 to 0.93176, saving model to ./data_out/transformer\\weights.h5\n",
      "9/9 [==============================] - 1s 150ms/step - loss: 0.0058 - accuracy: 0.9299 - val_loss: 0.2938 - val_accuracy: 0.9318\n",
      "Epoch 18/30\n",
      "9/9 [==============================] - ETA: 0s - loss: 0.0043 - accuracy: 0.9337\n",
      "Epoch 18: val_accuracy improved from 0.93176 to 0.93533, saving model to ./data_out/transformer\\weights.h5\n",
      "9/9 [==============================] - 1s 153ms/step - loss: 0.0043 - accuracy: 0.9337 - val_loss: 0.2754 - val_accuracy: 0.9353\n",
      "Epoch 19/30\n",
      "9/9 [==============================] - ETA: 0s - loss: 0.0030 - accuracy: 0.9371\n",
      "Epoch 19: val_accuracy improved from 0.93533 to 0.93853, saving model to ./data_out/transformer\\weights.h5\n",
      "9/9 [==============================] - 1s 154ms/step - loss: 0.0030 - accuracy: 0.9371 - val_loss: 0.2772 - val_accuracy: 0.9385\n",
      "Epoch 20/30\n",
      "9/9 [==============================] - ETA: 0s - loss: 0.0027 - accuracy: 0.9401\n",
      "Epoch 20: val_accuracy improved from 0.93853 to 0.94140, saving model to ./data_out/transformer\\weights.h5\n",
      "9/9 [==============================] - 1s 159ms/step - loss: 0.0027 - accuracy: 0.9401 - val_loss: 0.2778 - val_accuracy: 0.9414\n",
      "Epoch 21/30\n",
      "9/9 [==============================] - ETA: 0s - loss: 0.0033 - accuracy: 0.9428\n",
      "Epoch 21: val_accuracy improved from 0.94140 to 0.94400, saving model to ./data_out/transformer\\weights.h5\n",
      "9/9 [==============================] - 1s 156ms/step - loss: 0.0033 - accuracy: 0.9428 - val_loss: 0.2813 - val_accuracy: 0.9440\n",
      "Epoch 22/30\n",
      "9/9 [==============================] - ETA: 0s - loss: 0.0027 - accuracy: 0.9453\n",
      "Epoch 22: val_accuracy improved from 0.94400 to 0.94636, saving model to ./data_out/transformer\\weights.h5\n",
      "9/9 [==============================] - 1s 150ms/step - loss: 0.0027 - accuracy: 0.9453 - val_loss: 0.2769 - val_accuracy: 0.9464\n",
      "Epoch 23/30\n",
      "9/9 [==============================] - ETA: 0s - loss: 0.0031 - accuracy: 0.9475\n",
      "Epoch 23: val_accuracy improved from 0.94636 to 0.94852, saving model to ./data_out/transformer\\weights.h5\n",
      "9/9 [==============================] - 1s 155ms/step - loss: 0.0031 - accuracy: 0.9475 - val_loss: 0.2955 - val_accuracy: 0.9485\n",
      "Epoch 24/30\n",
      "9/9 [==============================] - ETA: 0s - loss: 0.0025 - accuracy: 0.9496\n",
      "Epoch 24: val_accuracy improved from 0.94852 to 0.95050, saving model to ./data_out/transformer\\weights.h5\n",
      "9/9 [==============================] - 1s 152ms/step - loss: 0.0025 - accuracy: 0.9496 - val_loss: 0.2939 - val_accuracy: 0.9505\n",
      "Epoch 25/30\n",
      "9/9 [==============================] - ETA: 0s - loss: 0.0027 - accuracy: 0.9515\n",
      "Epoch 25: val_accuracy improved from 0.95050 to 0.95232, saving model to ./data_out/transformer\\weights.h5\n",
      "9/9 [==============================] - 1s 161ms/step - loss: 0.0027 - accuracy: 0.9515 - val_loss: 0.2833 - val_accuracy: 0.9523\n"
     ]
    },
    {
     "name": "stdout",
     "output_type": "stream",
     "text": [
      "Epoch 26/30\n",
      "9/9 [==============================] - ETA: 0s - loss: 0.0020 - accuracy: 0.9533\n",
      "Epoch 26: val_accuracy improved from 0.95232 to 0.95400, saving model to ./data_out/transformer\\weights.h5\n",
      "9/9 [==============================] - 1s 145ms/step - loss: 0.0020 - accuracy: 0.9533 - val_loss: 0.2890 - val_accuracy: 0.9540\n",
      "Epoch 27/30\n",
      "9/9 [==============================] - ETA: 0s - loss: 0.0021 - accuracy: 0.9549\n",
      "Epoch 27: val_accuracy improved from 0.95400 to 0.95556, saving model to ./data_out/transformer\\weights.h5\n",
      "9/9 [==============================] - 1s 156ms/step - loss: 0.0021 - accuracy: 0.9549 - val_loss: 0.2933 - val_accuracy: 0.9556\n",
      "Epoch 28/30\n",
      "9/9 [==============================] - ETA: 0s - loss: 0.0016 - accuracy: 0.9564\n",
      "Epoch 28: val_accuracy improved from 0.95556 to 0.95700, saving model to ./data_out/transformer\\weights.h5\n",
      "9/9 [==============================] - 1s 152ms/step - loss: 0.0016 - accuracy: 0.9564 - val_loss: 0.2957 - val_accuracy: 0.9570\n",
      "Epoch 29/30\n",
      "9/9 [==============================] - ETA: 0s - loss: 0.0015 - accuracy: 0.9578\n",
      "Epoch 29: val_accuracy improved from 0.95700 to 0.95834, saving model to ./data_out/transformer\\weights.h5\n",
      "9/9 [==============================] - 1s 148ms/step - loss: 0.0015 - accuracy: 0.9578 - val_loss: 0.2942 - val_accuracy: 0.9583\n",
      "Epoch 30/30\n",
      "9/9 [==============================] - ETA: 0s - loss: 0.0016 - accuracy: 0.9590\n",
      "Epoch 30: val_accuracy improved from 0.95834 to 0.95960, saving model to ./data_out/transformer\\weights.h5\n",
      "9/9 [==============================] - 1s 130ms/step - loss: 0.0016 - accuracy: 0.9590 - val_loss: 0.2893 - val_accuracy: 0.9596\n"
     ]
    }
   ],
   "source": [
    "history = model.fit([index_inputs, index_outputs], index_targets, \n",
    "                    batch_size=BATCH_SIZE, epochs=EPOCHS,\n",
    "                    validation_split=VALID_SPLIT, callbacks=[earlystop_callback, cp_callback])"
   ]
  },
  {
   "cell_type": "markdown",
   "id": "1d7963e5",
   "metadata": {},
   "source": [
    "# 베스트 모델 불러오기"
   ]
  },
  {
   "cell_type": "code",
   "execution_count": 17,
   "id": "6b68dcfa",
   "metadata": {},
   "outputs": [],
   "source": [
    "DATA_OUT_PATH = './data_out/'\n",
    "SAVE_FILE_NM = 'weights.h5'\n",
    "\n",
    "model.load_weights(os.path.join(DATA_OUT_PATH, model_name, SAVE_FILE_NM))"
   ]
  },
  {
   "cell_type": "markdown",
   "id": "bd9e5dbf",
   "metadata": {},
   "source": [
    "# 모델 결과 출력하기"
   ]
  },
  {
   "cell_type": "code",
   "execution_count": 18,
   "id": "d2a03816",
   "metadata": {},
   "outputs": [
    {
     "name": "stdout",
     "output_type": "stream",
     "text": [
      "평소 에 필요했던게 좋을것 같아요\n"
     ]
    }
   ],
   "source": [
    "char2idx = prepro_configs['char2idx']\n",
    "idx2char = prepro_configs['idx2char']\n",
    "\n",
    "text = \"남자친구 승진 선물로 뭐가 좋을까?\"\n",
    "test_index_inputs, _ = enc_processing([text], char2idx)\n",
    "outputs = model.inference(test_index_inputs)\n",
    "\n",
    "print(' '.join([idx2char[str(o)] for o in outputs]))"
   ]
  }
 ],
 "metadata": {
  "kernelspec": {
   "display_name": "Python 3 (ipykernel)",
   "language": "python",
   "name": "python3"
  },
  "language_info": {
   "codemirror_mode": {
    "name": "ipython",
    "version": 3
   },
   "file_extension": ".py",
   "mimetype": "text/x-python",
   "name": "python",
   "nbconvert_exporter": "python",
   "pygments_lexer": "ipython3",
   "version": "3.7.13"
  }
 },
 "nbformat": 4,
 "nbformat_minor": 5
}
