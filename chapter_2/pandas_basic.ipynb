{
 "cells": [
  {
   "cell_type": "code",
   "execution_count": 3,
   "id": "98f9f916",
   "metadata": {},
   "outputs": [
    {
     "name": "stdout",
     "output_type": "stream",
     "text": [
      "0     1\n",
      "1     3\n",
      "2     5\n",
      "3     7\n",
      "4    10\n",
      "dtype: int64\n",
      "0    a\n",
      "1    b\n",
      "2    c\n",
      "3    d\n",
      "dtype: object\n",
      "0    10\n",
      "1    15\n",
      "2    20\n",
      "3    25\n",
      "dtype: int32\n"
     ]
    }
   ],
   "source": [
    "import pandas as pd\n",
    "import numpy as np\n",
    "\n",
    "a = pd.Series([1,3,5,7,10])\n",
    "print(a)\n",
    "\n",
    "data = np.array(['a','b','c','d'])\n",
    "b = pd.Series(data)\n",
    "print(b)\n",
    "\n",
    "c = pd.Series(np.arange(10,30,5))\n",
    "print(c)"
   ]
  },
  {
   "cell_type": "code",
   "execution_count": 6,
   "id": "47e5127d",
   "metadata": {},
   "outputs": [
    {
     "name": "stdout",
     "output_type": "stream",
     "text": [
      "10    a\n",
      "20    b\n",
      "30    c\n",
      "dtype: object\n",
      "a    10\n",
      "b    20\n",
      "c    30\n",
      "dtype: int64\n"
     ]
    }
   ],
   "source": [
    "a = pd.Series(['a','b','c'], index=[10,20,30]) # 인덱스 직접 지정\n",
    "print(a)\n",
    "\n",
    "dic = {'a':10, 'b':20, 'c':30}\n",
    "d = pd.Series(dic)\n",
    "print(d)"
   ]
  },
  {
   "cell_type": "code",
   "execution_count": 7,
   "id": "b59bf668",
   "metadata": {},
   "outputs": [
    {
     "name": "stdout",
     "output_type": "stream",
     "text": [
      "   0\n",
      "0  1\n",
      "1  3\n",
      "2  5\n",
      "3  7\n",
      "4  9\n",
      "  Name  Age\n",
      "0  Cho   28\n",
      "1  Kim   31\n",
      "2  Lee   38\n",
      "        0     1\n",
      "0   apple  7000\n",
      "1  banana  5000\n",
      "2  orange  4000\n"
     ]
    }
   ],
   "source": [
    "a = pd.DataFrame([1,3,5,7,9])\n",
    "print(a)\n",
    "\n",
    "dic = {'Name':['Cho','Kim','Lee'], 'Age':[28,31,38]}\n",
    "b = pd.DataFrame(dic)\n",
    "print(b)\n",
    "\n",
    "c = pd.DataFrame([['apple',7000],['banana',5000],['orange',4000]])\n",
    "print(c)"
   ]
  },
  {
   "cell_type": "code",
   "execution_count": 8,
   "id": "1ae69128",
   "metadata": {},
   "outputs": [
    {
     "name": "stdout",
     "output_type": "stream",
     "text": [
      "     name  price\n",
      "a   apple   7000\n",
      "b  banana   5000\n",
      "c  orange   4000\n"
     ]
    }
   ],
   "source": [
    "d = pd.DataFrame([['apple',7000],['banana',5000],['orange',4000]], columns=['name','price'], index=['a','b','c'])\n",
    "print(d)\n"
   ]
  }
 ],
 "metadata": {
  "kernelspec": {
   "display_name": "Python 3 (ipykernel)",
   "language": "python",
   "name": "python3"
  },
  "language_info": {
   "codemirror_mode": {
    "name": "ipython",
    "version": 3
   },
   "file_extension": ".py",
   "mimetype": "text/x-python",
   "name": "python",
   "nbconvert_exporter": "python",
   "pygments_lexer": "ipython3",
   "version": "3.7.13"
  }
 },
 "nbformat": 4,
 "nbformat_minor": 5
}
