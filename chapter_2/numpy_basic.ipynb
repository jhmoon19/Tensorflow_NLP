{
 "cells": [
  {
   "cell_type": "code",
   "execution_count": 1,
   "id": "5a2774db",
   "metadata": {},
   "outputs": [
    {
     "name": "stdout",
     "output_type": "stream",
     "text": [
      "[1 2 3]\n"
     ]
    }
   ],
   "source": [
    "import numpy as np\n",
    "\n",
    "a = np.array([1,2,3])\n",
    "print(a)"
   ]
  },
  {
   "cell_type": "code",
   "execution_count": 2,
   "id": "af25e72b",
   "metadata": {},
   "outputs": [
    {
     "name": "stdout",
     "output_type": "stream",
     "text": [
      "2\n",
      "int32\n",
      "(3, 3)\n",
      "9\n"
     ]
    }
   ],
   "source": [
    "a = np.array([[1,2,3],[4,5,6],[7,8,9]])\n",
    "print(a.ndim) # 2\n",
    "print(a.dtype) # int32\n",
    "print(a.shape) # (3,3)\n",
    "print(a.size) # 9"
   ]
  },
  {
   "cell_type": "code",
   "execution_count": 6,
   "id": "9aa5efbd",
   "metadata": {},
   "outputs": [
    {
     "name": "stdout",
     "output_type": "stream",
     "text": [
      "[[0. 0. 0.]\n",
      " [0. 0. 0.]]\n",
      "[[1.]\n",
      " [1.]]\n",
      "[[2.12199579e-314 4.67296746e-307]\n",
      " [7.92481296e-321 1.15436571e-311]]\n",
      "[10 15 20 25]\n",
      "[[4 4]\n",
      " [4 4]]\n",
      "[[1. 0. 0.]\n",
      " [0. 1. 0.]\n",
      " [0. 0. 1.]]\n",
      "[[0.70309859 0.119731  ]\n",
      " [0.90784194 0.69499756]]\n"
     ]
    }
   ],
   "source": [
    "a = np.zeros((2,3))\n",
    "print(a)\n",
    "\n",
    "b = np.ones((2,1))\n",
    "print(b)\n",
    "\n",
    "# 원소값 초기화하지 않은 배열\n",
    "# 원소에는 매우크거나 작은값이 들어감\n",
    "c = np.empty((2,2))\n",
    "print(c)\n",
    "\n",
    "d = np.arange(10,30,5)\n",
    "print(d)\n",
    "\n",
    "# 똑같은 값4 가진 행렬\n",
    "e = np.full((2,2),4)\n",
    "print(e)\n",
    "\n",
    "f = np.eye(3) # 3*3 단위행렬\n",
    "print(f)\n",
    "\n",
    "# 임의값 가진 배열\n",
    "# 0~1 사이의 값\n",
    "g = np.random.random((2,2))\n",
    "print(g)"
   ]
  },
  {
   "cell_type": "code",
   "execution_count": 7,
   "id": "188cb9cf",
   "metadata": {},
   "outputs": [
    {
     "data": {
      "text/plain": [
       "array([[1., 0., 0., 0., 0.],\n",
       "       [0., 1., 0., 0., 0.],\n",
       "       [0., 0., 1., 0., 0.],\n",
       "       [0., 0., 0., 1., 0.],\n",
       "       [0., 0., 0., 0., 1.]])"
      ]
     },
     "execution_count": 7,
     "metadata": {},
     "output_type": "execute_result"
    }
   ],
   "source": [
    "np.eye(5)"
   ]
  },
  {
   "cell_type": "code",
   "execution_count": 10,
   "id": "ddc6fe65",
   "metadata": {},
   "outputs": [
    {
     "data": {
      "text/plain": [
       "array([2.81389403, 1.13995658])"
      ]
     },
     "execution_count": 10,
     "metadata": {},
     "output_type": "execute_result"
    }
   ],
   "source": [
    "np.random.uniform((3,3))"
   ]
  },
  {
   "cell_type": "code",
   "execution_count": 12,
   "id": "f83d182f",
   "metadata": {},
   "outputs": [
    {
     "data": {
      "text/plain": [
       "array([[0.87330007, 0.25927983, 0.04037109],\n",
       "       [0.799851  , 0.56479205, 0.33269782],\n",
       "       [0.585749  , 0.48979935, 0.6448085 ]])"
      ]
     },
     "execution_count": 12,
     "metadata": {},
     "output_type": "execute_result"
    }
   ],
   "source": [
    "np.random.rand(3,3)\n",
    "# np.random.rand((3,3))는 또 오류...!!"
   ]
  },
  {
   "cell_type": "code",
   "execution_count": 14,
   "id": "2b598a59",
   "metadata": {},
   "outputs": [
    {
     "data": {
      "text/plain": [
       "array([[0.43854409, 0.0416425 , 0.2245824 ],\n",
       "       [0.33654102, 0.45441451, 0.40158981],\n",
       "       [0.56656936, 0.79382385, 0.67297457]])"
      ]
     },
     "execution_count": 14,
     "metadata": {},
     "output_type": "execute_result"
    }
   ],
   "source": [
    "np.random.random((3,3))\n",
    "# np.random.random(3,3)는 또 오류... !!"
   ]
  },
  {
   "cell_type": "code",
   "execution_count": 16,
   "id": "3d3915c4",
   "metadata": {},
   "outputs": [
    {
     "data": {
      "text/plain": [
       "array([3, 3])"
      ]
     },
     "execution_count": 16,
     "metadata": {},
     "output_type": "execute_result"
    }
   ],
   "source": [
    "np.random.randint(3,5,2)"
   ]
  },
  {
   "cell_type": "code",
   "execution_count": 17,
   "id": "907b0e66",
   "metadata": {},
   "outputs": [
    {
     "data": {
      "text/plain": [
       "array([[8, 5, 7],\n",
       "       [5, 3, 8]])"
      ]
     },
     "execution_count": 17,
     "metadata": {},
     "output_type": "execute_result"
    }
   ],
   "source": [
    "np.random.randint(3,10, (2,3))"
   ]
  },
  {
   "cell_type": "code",
   "execution_count": 19,
   "id": "bbe7809a",
   "metadata": {},
   "outputs": [
    {
     "name": "stdout",
     "output_type": "stream",
     "text": [
      "[[0.91772006 0.98988958 0.70728971]\n",
      " [0.13836384 0.31765364 0.79820205]]\n",
      "[[0.93058496 0.1542653 ]\n",
      " [0.21013841 0.29237919]\n",
      " [0.03038489 0.26917738]]\n",
      "\n",
      "[[ 1.37937946  1.17687144]\n",
      " [-0.6680541   1.29772562]]\n",
      "[[3.11811201 1.32785933 0.78754623]\n",
      " [2.95767109 2.69909217 2.95498908]]\n",
      "\n",
      "[[ 2.33209882  0.06269413  0.4326412 ]\n",
      " [-1.60838017 -0.04580082  0.6427789 ]]\n",
      "[[ 0.44353985 -0.79102664  1.30628219]\n",
      " [ 0.13152031  2.26252384 -0.32281795]]\n"
     ]
    }
   ],
   "source": [
    "# 균등분포 (uniform)\n",
    "print(np.random.random((2,3)))\n",
    "print(np.random.rand(3,2))\n",
    "print()\n",
    "\n",
    "# 정규분포 (가우시안)\n",
    "print(np.random.normal(0,1,(2,2)))\n",
    "print(np.random.normal(3.0,2.0,(2,3)))\n",
    "print()\n",
    "\n",
    "# 표준정규분포\n",
    "print(np.random.randn(2,3))\n",
    "print(np.random.standard_normal((2,3)))"
   ]
  },
  {
   "cell_type": "markdown",
   "id": "005c0fb6",
   "metadata": {},
   "source": [
    "# 넘파이 기본 연산"
   ]
  },
  {
   "cell_type": "code",
   "execution_count": 20,
   "id": "aa8f8c24",
   "metadata": {},
   "outputs": [
    {
     "name": "stdout",
     "output_type": "stream",
     "text": [
      "[11 22 33]\n",
      "[11 22 33]\n",
      "\n",
      "[ 9 18 27]\n",
      "[ 9 18 27]\n",
      "\n",
      "[1 4 9]\n",
      "\n",
      "[ True False False]\n",
      "\n",
      "[[10 40]\n",
      " [90 40]]\n",
      "[[ 70  40]\n",
      " [150 100]]\n",
      "[[ 70  40]\n",
      " [150 100]]\n"
     ]
    }
   ],
   "source": [
    "a = np.array([1,2,3])\n",
    "b = np.array([10,20,30])\n",
    "\n",
    "print(a+b)\n",
    "print(np.add(a,b))\n",
    "print()\n",
    "\n",
    "print(b-a)\n",
    "print(np.subtract(b,a))\n",
    "print()\n",
    "\n",
    "print(a**2)\n",
    "print()\n",
    "\n",
    "print(b < 15)\n",
    "print()\n",
    "\n",
    "c = np.array([[1,2],[3,4]])\n",
    "d = np.array([[10,20],[30,10]])\n",
    "\n",
    "print(c*d) # 원소별 곱셈\n",
    "print(np.dot(c,d)) # 내적 (dot product)\n",
    "print(c.dot(d))"
   ]
  },
  {
   "cell_type": "code",
   "execution_count": 21,
   "id": "d45ec889",
   "metadata": {},
   "outputs": [
    {
     "name": "stdout",
     "output_type": "stream",
     "text": [
      "[ 7 11 15 19]\n",
      "[10 26 16]\n",
      "[4 8 7]\n",
      "[5 6 7 8]\n"
     ]
    }
   ],
   "source": [
    "a = np.array([[1,2,3,4],\n",
    "              [5,6,7,8],\n",
    "              [1,3,5,7]])\n",
    "    \n",
    "print(a.sum(axis=0))\n",
    "# 열 기준 덧셈\n",
    "\n",
    "print(a.sum(axis=1))\n",
    "# 행 기준 덧셈\n",
    "\n",
    "print(a.max(axis=1))\n",
    "# 각 행에서의 최대값\n",
    "\n",
    "print(a.max(axis=0))\n",
    "# 각 열에서의 최대값"
   ]
  },
  {
   "cell_type": "code",
   "execution_count": 22,
   "id": "ec1c33ff",
   "metadata": {},
   "outputs": [
    {
     "ename": "AttributeError",
     "evalue": "'numpy.ndarray' object has no attribute 'reduce_sum'",
     "output_type": "error",
     "traceback": [
      "\u001b[1;31m---------------------------------------------------------------------------\u001b[0m",
      "\u001b[1;31mAttributeError\u001b[0m                            Traceback (most recent call last)",
      "\u001b[1;32m~\\AppData\\Local\\Temp\\ipykernel_27276\\2557578029.py\u001b[0m in \u001b[0;36m<module>\u001b[1;34m\u001b[0m\n\u001b[1;32m----> 1\u001b[1;33m \u001b[0ma\u001b[0m\u001b[1;33m.\u001b[0m\u001b[0mreduce_sum\u001b[0m\u001b[1;33m(\u001b[0m\u001b[0maxis\u001b[0m\u001b[1;33m=\u001b[0m\u001b[1;36m0\u001b[0m\u001b[1;33m)\u001b[0m\u001b[1;33m\u001b[0m\u001b[1;33m\u001b[0m\u001b[0m\n\u001b[0m",
      "\u001b[1;31mAttributeError\u001b[0m: 'numpy.ndarray' object has no attribute 'reduce_sum'"
     ]
    }
   ],
   "source": [
    "# reduce_sum 은 텐서플로우 것!\n",
    "a.reduce_sum(axis=0)"
   ]
  },
  {
   "cell_type": "markdown",
   "id": "6c091563",
   "metadata": {},
   "source": [
    "# 넘파이 배열 형태 변환"
   ]
  },
  {
   "cell_type": "code",
   "execution_count": 25,
   "id": "3f8ba536",
   "metadata": {},
   "outputs": [
    {
     "name": "stdout",
     "output_type": "stream",
     "text": [
      "[ 1  2  3  4  5  6  7  8  9 10 11 12]\n",
      "[ 1  2  3  4  5  6  7  8  9 10 11 12]\n",
      "\n",
      "[[ 1  2  3  4  5  6]\n",
      " [ 7  8  9 10 11 12]]\n",
      "\n",
      "[[ 1  5  9]\n",
      " [ 2  6 10]\n",
      " [ 3  7 11]\n",
      " [ 4  8 12]]\n",
      "[[ 1  5  9]\n",
      " [ 2  6 10]\n",
      " [ 3  7 11]\n",
      " [ 4  8 12]]\n"
     ]
    }
   ],
   "source": [
    "a = np.array([[1,2,3,4],\n",
    "             [5,6,7,8],\n",
    "             [9,10,11,12]])\n",
    "\n",
    "print(a.ravel()) # 원본 변경 \n",
    "# 1차원 배열로 만들어준다.\n",
    "print(a.flatten()) # 원본 변경 x\n",
    "print()\n",
    "             \n",
    "print(a.reshape(2,6))\n",
    "print()\n",
    "\n",
    "print(a.T)\n",
    "print(a.transpose())"
   ]
  },
  {
   "cell_type": "code",
   "execution_count": 27,
   "id": "5edd81b1",
   "metadata": {},
   "outputs": [
    {
     "name": "stdout",
     "output_type": "stream",
     "text": [
      "[100   2   3   4   5   6   7   8   9  10  11  12]\n",
      "[[ 1  2  3  4]\n",
      " [ 5  6  7  8]\n",
      " [ 9 10 11 12]]\n",
      "[200   2   3   4   5   6   7   8   9  10  11  12]\n",
      "[[200   2   3   4]\n",
      " [  5   6   7   8]\n",
      " [  9  10  11  12]]\n"
     ]
    }
   ],
   "source": [
    "b = a.ravel()\n",
    "c = a.flatten()\n",
    "\n",
    "c[0] = 100\n",
    "print(c)\n",
    "print(a)\n",
    "b[0] = 200\n",
    "print(b)\n",
    "print(a) # 원본이 변경된 모습"
   ]
  },
  {
   "cell_type": "code",
   "execution_count": 28,
   "id": "0f29da45",
   "metadata": {},
   "outputs": [
    {
     "name": "stdout",
     "output_type": "stream",
     "text": [
      "[[200   2   3   4]\n",
      " [  5   6   7   8]\n",
      " [  9  10  11  12]]\n"
     ]
    }
   ],
   "source": [
    "print(a.reshape(3,-1))"
   ]
  },
  {
   "cell_type": "markdown",
   "id": "b79b4a0f",
   "metadata": {},
   "source": [
    "# 넘파이 브로드캐스팅\n",
    "- 다른 형태의 배열끼리도 연산이 가능하도록 해줌. \n",
    "    - 반복문을 사용하지 않고도 "
   ]
  },
  {
   "cell_type": "code",
   "execution_count": 29,
   "id": "8204160d",
   "metadata": {},
   "outputs": [
    {
     "name": "stdout",
     "output_type": "stream",
     "text": [
      "[[4128860 6029375 3801155]\n",
      " [5570652 6619251 7536754]\n",
      " [6357084 7536750 7078007]]\n",
      "\n",
      "[[ 2  2  4]\n",
      " [ 5  5  7]\n",
      " [ 8  8 10]]\n"
     ]
    }
   ],
   "source": [
    "a = np.array([[1,2,3],[4,5,6],[7,8,9]])\n",
    "b = np.array([1,0,1])\n",
    "y = np.empty_like(a) # 배열 a와 크기가 같은 원소가 비어있는 배열 생성\n",
    "print(y)\n",
    "print()\n",
    "\n",
    "# 배열 b를 a의 각 행에 더해주기 위해 반복문 사용\n",
    "for i in range(3):\n",
    "    y[i,:] = a[i,:] + b\n",
    "print(y)"
   ]
  },
  {
   "cell_type": "code",
   "execution_count": 30,
   "id": "743c7e63",
   "metadata": {},
   "outputs": [
    {
     "name": "stdout",
     "output_type": "stream",
     "text": [
      "[[ 2  2  4]\n",
      " [ 5  5  7]\n",
      " [ 8  8 10]]\n"
     ]
    }
   ],
   "source": [
    "\"\"\"\n",
    "위와 같은 방법은 배열이 커질수록 매우 느려짐. \n",
    "--> 브로드캐스팅 사용해서 반복문 없이\n",
    "\"\"\"\n",
    "\n",
    "c = a+b\n",
    "print(c)"
   ]
  }
 ],
 "metadata": {
  "kernelspec": {
   "display_name": "Python 3 (ipykernel)",
   "language": "python",
   "name": "python3"
  },
  "language_info": {
   "codemirror_mode": {
    "name": "ipython",
    "version": 3
   },
   "file_extension": ".py",
   "mimetype": "text/x-python",
   "name": "python",
   "nbconvert_exporter": "python",
   "pygments_lexer": "ipython3",
   "version": "3.7.13"
  }
 },
 "nbformat": 4,
 "nbformat_minor": 5
}
