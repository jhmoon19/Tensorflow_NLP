{
 "cells": [
  {
   "cell_type": "code",
   "execution_count": 1,
   "id": "deb44e5a",
   "metadata": {},
   "outputs": [],
   "source": [
    "import numpy as np\n",
    "import pandas as pd\n",
    "import os\n",
    "from sklearn.feature_extraction.text import CountVectorizer # BOW 방법"
   ]
  },
  {
   "cell_type": "code",
   "execution_count": 2,
   "id": "c30ef364",
   "metadata": {},
   "outputs": [],
   "source": [
    "DATA_IN_PATH = './data_in/'\n",
    "DATA_OUT_PATH = './data_out/'\n",
    "TRAIN_CLEAN_DATA = 'train_clean.csv'\n",
    "\n",
    "TEST_SIZE = 0.2\n",
    "RANDOM_SEED = 42\n",
    "\n",
    "train_data = pd.read_csv(DATA_IN_PATH + TRAIN_CLEAN_DATA)\n",
    "\n",
    "reviews = list(train_data['review'])\n",
    "y = np.array(train_data['sentiment'])"
   ]
  },
  {
   "cell_type": "markdown",
   "id": "258b16ee",
   "metadata": {},
   "source": [
    "# CountVectorizer 활용 벡터화 \n",
    "- Bag of Words 방식 피쳐 추출"
   ]
  },
  {
   "cell_type": "code",
   "execution_count": 3,
   "id": "5dd395ec",
   "metadata": {},
   "outputs": [],
   "source": [
    "vectorizer = CountVectorizer(analyzer='word',\n",
    "                            max_features=5000)\n",
    "train_data_features = vectorizer.fit_transform(reviews)"
   ]
  },
  {
   "cell_type": "markdown",
   "id": "5bbd160f",
   "metadata": {},
   "source": [
    "# 학습/검증 데이터 분리"
   ]
  },
  {
   "cell_type": "code",
   "execution_count": 4,
   "id": "b0361c5f",
   "metadata": {},
   "outputs": [],
   "source": [
    "from sklearn.model_selection import train_test_split\n",
    "\n",
    "train_input, eval_input, train_label, eval_label = \\\n",
    "   train_test_split(train_data_features, y, test_size=TEST_SIZE,\n",
    "                    random_state=RANDOM_SEED)"
   ]
  },
  {
   "cell_type": "markdown",
   "id": "bb95c457",
   "metadata": {},
   "source": [
    "# 모델 구현 및 학습"
   ]
  },
  {
   "cell_type": "code",
   "execution_count": 5,
   "id": "cbf93dc4",
   "metadata": {},
   "outputs": [
    {
     "name": "stdout",
     "output_type": "stream",
     "text": [
      "Accuracy: 0.846600\n"
     ]
    }
   ],
   "source": [
    "from sklearn.ensemble import RandomForestClassifier\n",
    "\n",
    "# 100개의 의사 결정 트리 사용\n",
    "forest = RandomForestClassifier(n_estimators = 100)\n",
    "\n",
    "# 모델 학습\n",
    "forest.fit(train_input, train_label)\n",
    "\n",
    "# 정확도 측정\n",
    "print(\"Accuracy: %f\" % forest.score(eval_input, eval_label))"
   ]
  },
  {
   "cell_type": "markdown",
   "id": "ac660bfd",
   "metadata": {},
   "source": [
    "# test 데이터셋으로 성능 평가 (예측)"
   ]
  },
  {
   "cell_type": "code",
   "execution_count": 6,
   "id": "0a51cdc1",
   "metadata": {},
   "outputs": [],
   "source": [
    "TEST_CLEAN_DATA = 'test_clean.csv'\n",
    "\n",
    "test_data = pd.read_csv(DATA_IN_PATH + TEST_CLEAN_DATA)\n",
    "\n",
    "test_reviews = list(test_data['review'])\n",
    "ids = list(test_data['id'])\n",
    "\n",
    "# 사용했던 vectorizer 가지고 fit하지 않고 그냥 transform\n",
    "test_data_features = vectorizer.transform(test_reviews)\n",
    "\n",
    "# 학습시킨 랜덤포레스트분류기로 예측\n",
    "result = forest.predict(test_data_features)\n",
    "# array([1, 0, 1, ..., 0, 1, 0], dtype=int64)\n",
    "\n",
    "# 데이터 제출 \n",
    "output = pd.DataFrame(data={'id':ids, 'sentiment':result})\n",
    "output.to_csv(DATA_OUT_PATH + \"Bag_of_Words_model.csv\",\n",
    "              index=False, quoting=3)"
   ]
  },
  {
   "cell_type": "markdown",
   "id": "77e571c9",
   "metadata": {},
   "source": [
    "캐글 제출 결과: 0.84432\n",
    "- 앞선 tfidf, word2vec 보다 낮은 성능 \n",
    "    - 모델은 그대로, feature extraction 방법을 다르게 해보기! "
   ]
  }
 ],
 "metadata": {
  "kernelspec": {
   "display_name": "Python 3 (ipykernel)",
   "language": "python",
   "name": "python3"
  },
  "language_info": {
   "codemirror_mode": {
    "name": "ipython",
    "version": 3
   },
   "file_extension": ".py",
   "mimetype": "text/x-python",
   "name": "python",
   "nbconvert_exporter": "python",
   "pygments_lexer": "ipython3",
   "version": "3.7.13"
  }
 },
 "nbformat": 4,
 "nbformat_minor": 5
}
