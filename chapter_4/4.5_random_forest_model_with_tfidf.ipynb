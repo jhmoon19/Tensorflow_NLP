{
 "cells": [
  {
   "cell_type": "code",
   "execution_count": 2,
   "id": "3b82bd2a",
   "metadata": {},
   "outputs": [
    {
     "name": "stdout",
     "output_type": "stream",
     "text": [
      "Accuracy: 0.850200\n"
     ]
    }
   ],
   "source": [
    "import numpy as np\n",
    "import pandas as pd\n",
    "import os\n",
    "from sklearn.feature_extraction.text import TfidfVectorizer\n",
    "from sklearn.model_selection import train_test_split\n",
    "from sklearn.ensemble import RandomForestClassifier\n",
    "\n",
    "DATA_IN_PATH = './data_in/'\n",
    "DATA_OUT_PATH = './data_out/'\n",
    "TRAIN_CLEAN_DATA = 'train_clean.csv'\n",
    "TEST_CLEAN_DATA = 'test_clean.csv'\n",
    "\n",
    "TEST_SIZE = 0.2\n",
    "RANDOM_SEED = 42\n",
    "\n",
    "train_data = pd.read_csv(DATA_IN_PATH + TRAIN_CLEAN_DATA)\n",
    "test_data = pd.read_csv(DATA_IN_PATH + TEST_CLEAN_DATA)\n",
    "\n",
    "reviews = list(train_data['review'])\n",
    "y = np.array(train_data['sentiment'])\n",
    "\n",
    "test_reviews = list(test_data['review'])\n",
    "ids = list(test_data['id'])\n",
    "\n",
    "# 벡터화: feature extraction - tfidf\n",
    "vectorizer = TfidfVectorizer(min_df=0.0,\n",
    "                             analyzer='word',\n",
    "                             sublinear_tf=True,\n",
    "                             ngram_range=(1,3),\n",
    "                             max_features=5000)\n",
    "train_data_features = vectorizer.fit_transform(reviews)\n",
    "\n",
    "# 학습/평가 데이터 분리\n",
    "train_input, eval_input, train_label, eval_label = \\\n",
    "   train_test_split(train_data_features, y, test_size=TEST_SIZE,\n",
    "                    random_state=RANDOM_SEED)\n",
    "\n",
    "# 모델 설정\n",
    "forest = RandomForestClassifier(n_estimators = 100)\n",
    "\n",
    "# 모델 학습\n",
    "forest.fit(train_input, train_label)\n",
    "\n",
    "# 정확도 측정\n",
    "print(\"Accuracy: %f\" % forest.score(eval_input, eval_label))\n",
    "\n",
    "# 사용했던 vectorizer 가지고 fit하지 않고 그냥 transform\n",
    "test_data_features = vectorizer.transform(test_reviews)\n",
    "\n",
    "# 학습시킨 랜덤포레스트분류기로 예측\n",
    "result = forest.predict(test_data_features)\n",
    "# array([1, 0, 1, ..., 0, 1, 0], dtype=int64)\n",
    "\n",
    "# 데이터 제출 \n",
    "output = pd.DataFrame(data={'id':ids, 'sentiment':result})\n",
    "output.to_csv(DATA_OUT_PATH + \"randomforest_tfidf.csv\",\n",
    "              index=False, quoting=3)"
   ]
  },
  {
   "cell_type": "markdown",
   "id": "adea9738",
   "metadata": {},
   "source": [
    "- tfidf + 랜덤포레스트 : 0.8461\n",
    "- bow + 랜덤포레스트 : 0.8443\n",
    "    - 얼마 차이 안나는 모습 "
   ]
  }
 ],
 "metadata": {
  "kernelspec": {
   "display_name": "Python 3 (ipykernel)",
   "language": "python",
   "name": "python3"
  },
  "language_info": {
   "codemirror_mode": {
    "name": "ipython",
    "version": 3
   },
   "file_extension": ".py",
   "mimetype": "text/x-python",
   "name": "python",
   "nbconvert_exporter": "python",
   "pygments_lexer": "ipython3",
   "version": "3.7.13"
  }
 },
 "nbformat": 4,
 "nbformat_minor": 5
}
